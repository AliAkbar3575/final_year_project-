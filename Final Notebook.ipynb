{
 "cells": [
  {
   "cell_type": "code",
   "execution_count": 1,
   "metadata": {},
   "outputs": [
    {
     "name": "stderr",
     "output_type": "stream",
     "text": [
      "C:\\ProgramData\\Anaconda3\\lib\\site-packages\\scipy\\__init__.py:155: UserWarning: A NumPy version >=1.18.5 and <1.25.0 is required for this version of SciPy (detected version 1.26.1\n",
      "  warnings.warn(f\"A NumPy version >={np_minversion} and <{np_maxversion}\"\n"
     ]
    }
   ],
   "source": [
    "import tensorflow as tf\n",
    "from tensorflow.keras import models, layers\n",
    "from sklearn.metrics import precision_recall_fscore_support, confusion_matrix\n",
    "import pandas as pd\n",
    "import numpy as np\n",
    "from matplotlib import pyplot as plt\n",
    "import seaborn as sns\n",
    "\n",
    "from tensorflow.keras.applications.resnet50 import ResNet50\n",
    "from tensorflow.keras.applications.resnet import ResNet152\n",
    "\n",
    "from tensorflow.keras.applications.efficientnet_v2 import EfficientNetV2B1\n",
    "from tensorflow.keras.applications.inception_v3 import InceptionV3\n",
    "from tensorflow.keras.applications.densenet import DenseNet201, DenseNet121\n",
    "from tensorflow.keras.applications.mobilenet_v2 import MobileNetV2\n",
    "from tensorflow.keras.applications.vgg16 import VGG16\n",
    "from tensorflow.keras.applications.vgg19 import VGG19\n",
    "\n",
    "from tensorflow.keras.applications.xception import Xception\n",
    "from tensorflow.keras.applications.regnet import RegNetY320\n",
    "\n",
    "from tensorflow.keras.models import Sequential\n",
    "from tensorflow.keras.layers import Dense, Conv2D, Dropout, LSTM\n",
    "import pickle\n",
    "\n"
   ]
  },
  {
   "cell_type": "markdown",
   "metadata": {},
   "source": [
    "## Dataset Preparation"
   ]
  },
  {
   "cell_type": "code",
   "execution_count": 9,
   "metadata": {},
   "outputs": [
    {
     "name": "stdout",
     "output_type": "stream",
     "text": [
      "Found 174 files belonging to 3 classes.\n"
     ]
    }
   ],
   "source": [
    "img_size = 128\n",
    "dataset = tf.keras.preprocessing.image_dataset_from_directory(\n",
    "    \"testdata\",\n",
    "    shuffle = True,\n",
    "    image_size = (img_size, img_size),\n",
    "    batch_size = 32\n",
    ")"
   ]
  },
  {
   "cell_type": "code",
   "execution_count": 10,
   "metadata": {},
   "outputs": [
    {
     "data": {
      "text/plain": [
       "((174, 128, 128, 3), (174,))"
      ]
     },
     "execution_count": 10,
     "metadata": {},
     "output_type": "execute_result"
    }
   ],
   "source": [
    "def data_extractor(dataset):\n",
    "    test_img = []\n",
    "    img_label = []\n",
    "    for img, labels in dataset:\n",
    "        for i in img:\n",
    "            test_img.append(np.array(i))\n",
    "        dataset1 = tf.data.Dataset.from_tensor_slices(labels)\n",
    "        list_data = list(dataset1.as_numpy_iterator())\n",
    "        for j in list_data:\n",
    "            img_label.append(j)\n",
    "    output_class = tf.constant(img_label)\n",
    "\n",
    "    test_img1 = np.array(test_img)\n",
    "    output_class1 = np.array(output_class)\n",
    "\n",
    "    return test_img1, output_class1\n",
    "\n",
    "# X_train, y_train = data_extractor(train_ds)\n",
    "X_test, y_test = data_extractor(dataset)\n",
    "# # X_val, y_val = data_extractor(val_ds)\n",
    "X_test.shape, y_test.shape"
   ]
  },
  {
   "cell_type": "code",
   "execution_count": 12,
   "metadata": {},
   "outputs": [],
   "source": [
    "pickle.dump(X_test, open(\"Xtest.pkl\", \"wb\"))\n",
    "pickle.dump(y_test, open(\"ytest.pkl\", \"wb\"))\n",
    "\n",
    "X = pickle.load(open(\"X_train.pkl\", \"rb\"))\n",
    "y = pickle.load(open(\"y_train.pkl\", \"rb\"))\n",
    "\n",
    "X_test = pickle.load(open(\"X_test.pkl\", \"rb\"))\n",
    "y_test = pickle.load(open(\"y_test.pkl\", \"rb\"))\n",
    "\n",
    "X_val = pickle.load(open(\"X_val.pkl\", \"rb\"))\n",
    "y_val = pickle.load(open(\"y_val.pkl\", \"rb\"))"
   ]
  },
  {
   "cell_type": "markdown",
   "metadata": {},
   "source": [
    "## Pretrained Architecture"
   ]
  },
  {
   "cell_type": "code",
   "execution_count": 36,
   "metadata": {},
   "outputs": [],
   "source": [
    "def run_model(train_index, test_index):\n",
    "    img_size = 128\n",
    "    model = Sequential()\n",
    "    \n",
    "    model.add(ResNet50(include_top=False, pooling='avg', weights='imagenet', input_shape = (img_size, img_size, 3)))\n",
    "\n",
    "    model.add(Dense(3, activation='softmax'))\n",
    "\n",
    "    model.layers[0].trainable=False\n",
    "    model.build()\n",
    "    model.summary()\n",
    "\n",
    "    model.compile(\n",
    "        optimizer='adam',\n",
    "        loss = tf.keras.losses.SparseCategoricalCrossentropy(from_logits=False),\n",
    "        metrics = ['accuracy']\n",
    "        )\n",
    "    \n",
    "    model_filepath = '/saved_models/weights_improvement-{epoch:02d}-{val_loss:.4f}.hdf5'\n",
    "    checkpoint_callback = tf.keras.callbacks.ModelCheckpoint(\n",
    "        filepath=model_filepath,\n",
    "        save_weights_only=True,\n",
    "        monitor='val_loss',\n",
    "        save_best_only=True,\n",
    "        mode='min',\n",
    "        verbose=1\n",
    ")\n",
    "\n",
    "    history = model.fit(\n",
    "        X_test[train_index],\n",
    "        y_test[train_index],\n",
    "        epochs = 3,\n",
    "        batch_size = 32,\n",
    "        verbose = 1,\n",
    "        validation_data= (X_val, y_val),\n",
    "        callbacks=[checkpoint_callback]\n",
    "    )\n",
    "    \n",
    "    folder_path = 'saved_models'\n",
    "    files = os.listdir(folder_path)\n",
    "    files.sort()  # Sort files by name\n",
    "    latest_file = os.path.join(folder_path, files[-1])\n",
    "    print(latest_file)\n",
    "    \n",
    "    model.load_weights(lastest_file)\n",
    "    \n",
    "    test_score = model.evaluate(X[test_index], y[test_index])\n",
    "    predictions = model.predict(X[test_index])\n",
    "    predicted_classes = np.argmax(predictions, axis=1)\n",
    "    precision1, recall1, f11, _ = precision_recall_fscore_support(y[test_index], predicted_classes, average='weighted')\n",
    "    \n",
    "    return (test_score, precision1, recall1, f11)"
   ]
  },
  {
   "cell_type": "code",
   "execution_count": 37,
   "metadata": {
    "collapsed": true
   },
   "outputs": [
    {
     "name": "stdout",
     "output_type": "stream",
     "text": [
      "Model: \"sequential_7\"\n",
      "_________________________________________________________________\n",
      " Layer (type)                Output Shape              Param #   \n",
      "=================================================================\n",
      " resnet50 (Functional)       (None, 2048)              23587712  \n",
      "                                                                 \n",
      " dense_1 (Dense)             (None, 3)                 6147      \n",
      "                                                                 \n",
      "=================================================================\n",
      "Total params: 23593859 (90.00 MB)\n",
      "Trainable params: 6147 (24.01 KB)\n",
      "Non-trainable params: 23587712 (89.98 MB)\n",
      "_________________________________________________________________\n",
      "Epoch 1/3\n",
      "107/107 [==============================] - ETA: 0s - loss: 0.7423 - accuracy: 0.7085\n",
      "Epoch 1: val_loss improved from inf to 0.42576, saving model to /saved_models\\weights_improvement-01-0.4258.hdf5\n",
      "107/107 [==============================] - 141s 1s/step - loss: 0.7423 - accuracy: 0.7085 - val_loss: 0.4258 - val_accuracy: 0.8406\n",
      "Epoch 2/3\n",
      "107/107 [==============================] - ETA: 0s - loss: 0.4073 - accuracy: 0.8426\n",
      "Epoch 2: val_loss improved from 0.42576 to 0.34630, saving model to /saved_models\\weights_improvement-02-0.3463.hdf5\n",
      "107/107 [==============================] - 139s 1s/step - loss: 0.4073 - accuracy: 0.8426 - val_loss: 0.3463 - val_accuracy: 0.8656\n",
      "Epoch 3/3\n",
      "107/107 [==============================] - ETA: 0s - loss: 0.3274 - accuracy: 0.8849\n",
      "Epoch 3: val_loss improved from 0.34630 to 0.30281, saving model to /saved_models\\weights_improvement-03-0.3028.hdf5\n",
      "107/107 [==============================] - 139s 1s/step - loss: 0.3274 - accuracy: 0.8849 - val_loss: 0.3028 - val_accuracy: 0.9031\n"
     ]
    },
    {
     "ename": "NameError",
     "evalue": "name 'lastest_file' is not defined",
     "output_type": "error",
     "traceback": [
      "\u001b[1;31m---------------------------------------------------------------------------\u001b[0m",
      "\u001b[1;31mNameError\u001b[0m                                 Traceback (most recent call last)",
      "\u001b[1;32m~\\AppData\\Local\\Temp\\ipykernel_3188\\967614771.py\u001b[0m in \u001b[0;36m<module>\u001b[1;34m\u001b[0m\n\u001b[0;32m      9\u001b[0m \u001b[1;33m\u001b[0m\u001b[0m\n\u001b[0;32m     10\u001b[0m \u001b[1;32mfor\u001b[0m \u001b[0mtrain_index\u001b[0m\u001b[1;33m,\u001b[0m \u001b[0mtest_index\u001b[0m \u001b[1;32min\u001b[0m \u001b[0mkf\u001b[0m\u001b[1;33m.\u001b[0m\u001b[0msplit\u001b[0m\u001b[1;33m(\u001b[0m\u001b[0mX\u001b[0m\u001b[1;33m)\u001b[0m\u001b[1;33m:\u001b[0m\u001b[1;33m\u001b[0m\u001b[1;33m\u001b[0m\u001b[0m\n\u001b[1;32m---> 11\u001b[1;33m     \u001b[0mscore\u001b[0m\u001b[1;33m,\u001b[0m \u001b[0mprecision2\u001b[0m\u001b[1;33m,\u001b[0m \u001b[0mrecall2\u001b[0m\u001b[1;33m,\u001b[0m \u001b[0mf12\u001b[0m \u001b[1;33m=\u001b[0m \u001b[0mrun_model\u001b[0m\u001b[1;33m(\u001b[0m\u001b[0mtrain_index\u001b[0m\u001b[1;33m,\u001b[0m \u001b[0mtest_index\u001b[0m\u001b[1;33m)\u001b[0m\u001b[1;33m\u001b[0m\u001b[1;33m\u001b[0m\u001b[0m\n\u001b[0m\u001b[0;32m     12\u001b[0m     \u001b[0maccuracy\u001b[0m\u001b[1;33m.\u001b[0m\u001b[0mappend\u001b[0m\u001b[1;33m(\u001b[0m\u001b[0mscore\u001b[0m\u001b[1;33m[\u001b[0m\u001b[1;36m1\u001b[0m\u001b[1;33m]\u001b[0m\u001b[1;33m)\u001b[0m\u001b[1;33m\u001b[0m\u001b[1;33m\u001b[0m\u001b[0m\n\u001b[0;32m     13\u001b[0m     \u001b[0mprecision\u001b[0m\u001b[1;33m.\u001b[0m\u001b[0mappend\u001b[0m\u001b[1;33m(\u001b[0m\u001b[0mprecision2\u001b[0m\u001b[1;33m)\u001b[0m\u001b[1;33m\u001b[0m\u001b[1;33m\u001b[0m\u001b[0m\n",
      "\u001b[1;32m~\\AppData\\Local\\Temp\\ipykernel_3188\\342861094.py\u001b[0m in \u001b[0;36mrun_model\u001b[1;34m(train_index, test_index)\u001b[0m\n\u001b[0;32m     50\u001b[0m     \u001b[0mlatest_file\u001b[0m \u001b[1;33m=\u001b[0m \u001b[0mos\u001b[0m\u001b[1;33m.\u001b[0m\u001b[0mpath\u001b[0m\u001b[1;33m.\u001b[0m\u001b[0mjoin\u001b[0m\u001b[1;33m(\u001b[0m\u001b[0mfolder_path\u001b[0m\u001b[1;33m,\u001b[0m \u001b[0mfiles\u001b[0m\u001b[1;33m[\u001b[0m\u001b[1;33m-\u001b[0m\u001b[1;36m1\u001b[0m\u001b[1;33m]\u001b[0m\u001b[1;33m)\u001b[0m\u001b[1;33m\u001b[0m\u001b[1;33m\u001b[0m\u001b[0m\n\u001b[0;32m     51\u001b[0m \u001b[1;33m\u001b[0m\u001b[0m\n\u001b[1;32m---> 52\u001b[1;33m     \u001b[0mmodel\u001b[0m\u001b[1;33m.\u001b[0m\u001b[0mload_weights\u001b[0m\u001b[1;33m(\u001b[0m\u001b[0mlastest_file\u001b[0m\u001b[1;33m)\u001b[0m\u001b[1;33m\u001b[0m\u001b[1;33m\u001b[0m\u001b[0m\n\u001b[0m\u001b[0;32m     53\u001b[0m \u001b[1;33m\u001b[0m\u001b[0m\n\u001b[0;32m     54\u001b[0m     \u001b[0mtest_score\u001b[0m \u001b[1;33m=\u001b[0m \u001b[0mmodel\u001b[0m\u001b[1;33m.\u001b[0m\u001b[0mevaluate\u001b[0m\u001b[1;33m(\u001b[0m\u001b[0mX\u001b[0m\u001b[1;33m[\u001b[0m\u001b[0mtest_index\u001b[0m\u001b[1;33m]\u001b[0m\u001b[1;33m,\u001b[0m \u001b[0my\u001b[0m\u001b[1;33m[\u001b[0m\u001b[0mtest_index\u001b[0m\u001b[1;33m]\u001b[0m\u001b[1;33m)\u001b[0m\u001b[1;33m\u001b[0m\u001b[1;33m\u001b[0m\u001b[0m\n",
      "\u001b[1;31mNameError\u001b[0m: name 'lastest_file' is not defined"
     ]
    }
   ],
   "source": [
    "from sklearn.model_selection import KFold\n",
    "kf = KFold(n_splits=3)\n",
    "img_size = 128\n",
    "\n",
    "accuracy = []\n",
    "precision = []\n",
    "recall = []\n",
    "f1 = []\n",
    "\n",
    "for train_index, test_index in kf.split(X):\n",
    "    score, precision2, recall2, f12 = run_model(train_index, test_index)\n",
    "    accuracy.append(score[1])\n",
    "    precision.append(precision2)\n",
    "    recall.append(recall2)\n",
    "    f1.append(f12)\n",
    "\n",
    "print(\"\\n5-fold CV performance parameters\")\n",
    "print(\"----------------------------------------------------\")\n",
    "print(\"CV scores : \", accuracy)\n",
    "print(\"Avg accuracy : \", np.mean(accuracy))\n",
    "print(\"Avg precision : \", np.mean(precision))\n",
    "print(\"Avg recall : \", np.mean(recall))\n",
    "print(\"Avg f1_score : \", np.mean(f1))"
   ]
  },
  {
   "cell_type": "markdown",
   "metadata": {},
   "source": [
    "## Modified Architecture"
   ]
  },
  {
   "cell_type": "code",
   "execution_count": 48,
   "metadata": {},
   "outputs": [
    {
     "name": "stdout",
     "output_type": "stream",
     "text": [
      "Model: \"sequential_10\"\n",
      "_________________________________________________________________\n",
      " Layer (type)                Output Shape              Param #   \n",
      "=================================================================\n",
      " resnet50 (Functional)       (None, 2048)              23587712  \n",
      "                                                                 \n",
      " dense_3 (Dense)             (None, 3)                 6147      \n",
      "                                                                 \n",
      "=================================================================\n",
      "Total params: 23593859 (90.00 MB)\n",
      "Trainable params: 6147 (24.01 KB)\n",
      "Non-trainable params: 23587712 (89.98 MB)\n",
      "_________________________________________________________________\n"
     ]
    }
   ],
   "source": [
    "img_size = 128\n",
    "model = Sequential()\n",
    "model.add(ResNet50(include_top=False, pooling='avg', weights='imagenet', input_shape = (img_size, img_size, 3)))\n",
    "\n",
    "model.add(Dense(256, activation='silu'))\n",
    "model.add(Dropout(0.4))\n",
    "model.add(Dense(128, activation='silu'))\n",
    "model.add(Dropout(0.3))\n",
    "model.add(Dense(128, activation='silu'))\n",
    "model.add(Dropout(0.2))\n",
    "model.add(Dense(64, activation='silu'))\n",
    "\n",
    "model.add(Dense(3, activation='softmax'))\n",
    "\n",
    "model.layers[0].trainable=False\n",
    "model.build()\n",
    "model.summary()"
   ]
  },
  {
   "cell_type": "code",
   "execution_count": 56,
   "metadata": {},
   "outputs": [
    {
     "name": "stdout",
     "output_type": "stream",
     "text": [
      "Epoch 1/3\n",
      "21/21 [==============================] - ETA: 0s - loss: 0.2795 - accuracy: 0.9048\n",
      "Epoch 1: val_loss improved from inf to 0.41416, saving model to saved_models\\weights_improvement-01-0.4142.hdf5\n",
      "21/21 [==============================] - 50s 2s/step - loss: 0.2795 - accuracy: 0.9048 - val_loss: 0.4142 - val_accuracy: 0.8562\n",
      "Epoch 2/3\n",
      "21/21 [==============================] - ETA: 0s - loss: 0.2196 - accuracy: 0.9315\n",
      "Epoch 2: val_loss improved from 0.41416 to 0.37112, saving model to saved_models\\weights_improvement-02-0.3711.hdf5\n",
      "21/21 [==============================] - 45s 2s/step - loss: 0.2196 - accuracy: 0.9315 - val_loss: 0.3711 - val_accuracy: 0.8687\n",
      "Epoch 3/3\n",
      "21/21 [==============================] - ETA: 0s - loss: 0.1804 - accuracy: 0.9494\n",
      "Epoch 3: val_loss improved from 0.37112 to 0.34203, saving model to saved_models\\weights_improvement-03-0.3420.hdf5\n",
      "21/21 [==============================] - 45s 2s/step - loss: 0.1804 - accuracy: 0.9494 - val_loss: 0.3420 - val_accuracy: 0.8750\n",
      "saved_models\\weights_improvement-03-0.3420.hdf5\n",
      "20/20 [==============================] - 22s 1s/step - loss: 0.3420 - accuracy: 0.8750\n",
      "20/20 [==============================] - 24s 1s/step\n",
      "0.875\n"
     ]
    }
   ],
   "source": [
    "model.compile(\n",
    "    optimizer='adam',\n",
    "    loss = tf.keras.losses.SparseCategoricalCrossentropy(from_logits=False),\n",
    "    metrics = ['accuracy']\n",
    "    )\n",
    "\n",
    "model_filepath = 'saved_models/weights_improvement-{epoch:02d}-{val_loss:.4f}.hdf5'\n",
    "checkpoint_callback = tf.keras.callbacks.ModelCheckpoint(\n",
    "    filepath=model_filepath,\n",
    "    save_weights_only=True,\n",
    "    monitor='val_loss',\n",
    "    save_best_only=True,\n",
    "    mode='min',\n",
    "    verbose=1\n",
    ")\n",
    "\n",
    "history = model.fit(\n",
    "    X_test,\n",
    "    y_test,\n",
    "    epochs = 3,\n",
    "    batch_size = 32,\n",
    "    verbose = 1,\n",
    "    validation_data= (X_val, y_val),\n",
    "    callbacks=[checkpoint_callback]\n",
    ")\n",
    "\n",
    "folder_path = 'saved_models'\n",
    "files = os.listdir(folder_path)\n",
    "files.sort()\n",
    "latest_file = os.path.join(folder_path, files[-1])\n",
    "print(latest_file)\n",
    "\n",
    "model.load_weights(latest_file)\n",
    "\n",
    "test_score = model.evaluate(X_val, y_val)\n",
    "predictions = model.predict(X_val)\n",
    "predicted_classes = np.argmax(predictions, axis=1)\n",
    "precision1, recall1, f11, _ = precision_recall_fscore_support(y_val, predicted_classes, average='weighted')\n",
    "print(test_score[1])\n"
   ]
  },
  {
   "cell_type": "code",
   "execution_count": 55,
   "metadata": {},
   "outputs": [],
   "source": [
    "model.load_weights('saved_models\\\\weights_improvement-02-0.3697.hdf5')"
   ]
  },
  {
   "cell_type": "code",
   "execution_count": 57,
   "metadata": {},
   "outputs": [
    {
     "name": "stdout",
     "output_type": "stream",
     "text": [
      "saved_models\\weights_improvement-01-0.3889.hdf5\n",
      "saved_models\\weights_improvement-01-0.3889.hdf5 is deleted\n",
      "\n",
      "saved_models\\weights_improvement-01-0.4142.hdf5\n",
      "saved_models\\weights_improvement-01-0.4142.hdf5 is deleted\n",
      "\n",
      "saved_models\\weights_improvement-02-0.3697.hdf5\n",
      "saved_models\\weights_improvement-02-0.3697.hdf5 is deleted\n",
      "\n",
      "saved_models\\weights_improvement-02-0.3711.hdf5\n",
      "saved_models\\weights_improvement-02-0.3711.hdf5 is deleted\n",
      "\n",
      "saved_models\\weights_improvement-03-0.3420.hdf5\n",
      "saved_models\\weights_improvement-03-0.3420.hdf5 is deleted\n",
      "\n"
     ]
    }
   ],
   "source": [
    "import os\n",
    "\n",
    "directory = \"saved_models\"  # Replace with the actual directory path\n",
    "\n",
    "for filename in os.listdir(directory):\n",
    "    file_path = os.path.join(directory, filename)\n",
    "    print(file_path)\n",
    "    if os.path.isfile(file_path):\n",
    "        os.remove(file_path)\n",
    "    print(f'{file_path} is deleted\\n')"
   ]
  },
  {
   "cell_type": "code",
   "execution_count": null,
   "metadata": {},
   "outputs": [],
   "source": []
  }
 ],
 "metadata": {
  "kernelspec": {
   "display_name": "Python 3",
   "language": "python",
   "name": "python3"
  },
  "language_info": {
   "codemirror_mode": {
    "name": "ipython",
    "version": 3
   },
   "file_extension": ".py",
   "mimetype": "text/x-python",
   "name": "python",
   "nbconvert_exporter": "python",
   "pygments_lexer": "ipython3",
   "version": "3.8.3"
  }
 },
 "nbformat": 4,
 "nbformat_minor": 5
}
